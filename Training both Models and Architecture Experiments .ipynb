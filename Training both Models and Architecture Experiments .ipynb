{
 "cells": [
  {
   "cell_type": "code",
   "execution_count": 1,
   "metadata": {
    "collapsed": false
   },
   "outputs": [
    {
     "name": "stderr",
     "output_type": "stream",
     "text": [
      "Using TensorFlow backend.\n"
     ]
    }
   ],
   "source": [
    "import keras\n",
    "from keras.datasets import mnist\n",
    "import numpy as np\n",
    "from sklearn import metrics\n",
    "import h5py\n",
    "from matplotlib import pyplot as plt \n",
    "%matplotlib inline\n",
    "plt.rcParams['figure.figsize'] = (8, 6)\n",
    "from skimage import io\n",
    "\n",
    "def show(img):\n",
    "    io.imshow(img)\n",
    "    io.show()\n",
    "def softmax_c(z):\n",
    "    assert len(z.shape) == 2\n",
    "    s = np.max(z, axis=1)\n",
    "    s = s[:, np.newaxis]\n",
    "    e_x = np.exp(z - s)\n",
    "    div = np.sum(e_x, axis=1)\n",
    "    div = div[:, np.newaxis] \n",
    "    return e_x / div"
   ]
  },
  {
   "cell_type": "markdown",
   "metadata": {},
   "source": [
    "### Model Compression/Reduction Techniques Studied\n",
    "\n",
    "#### Logit Regression : NIPS '14\n",
    "- Formulation: (Regression)\n",
    "- Loss Function : \n",
    "- https://arxiv.org/pdf/1312.6184.pdf\n",
    "- Do Deep Nets Really Need to be Deep?\n",
    "\n",
    "#### Song Hans et al. \n",
    "- Deep Compression, Pruning, trained-Quantization and Huffman Coding\n",
    "- Learning both Weights and Connections for Efficient Neural Networks\n",
    "- Formulation: \n",
    "- Loss Function : \n",
    "\n",
    "#### Quanitzation of Dense Layer. \n",
    "- Discretize the continuous Range of Values in a dense Layer to Clusters\n",
    "- Little or no Loss of accuracy. \n",
    "- Dense Layers are reduced.\n",
    "- a series of information theoretical vector quantization methods (Jegou et al., 2011; Chen et al., 2010) for compressing dense connected layers. \n",
    "- SqueezeNet (Implementation Available)\n",
    "\n",
    "\n",
    "- They Found simply applying kmeans-based scalar quantization achieves very impressive results. Than Matrix Factorization \n",
    "- Compression Rate to Accuracy Tradeoff using Kmeans saclar quantization := 32 / log2 (k)\n",
    "- Product Quantization .. breaking matrix into S submatrices... and kmeans clustering on each one of them . Compression Rate (32mn)/(32kn + log2(k)ms).\n",
    "\n",
    "\n",
    "- COMPRESSING DEEP CONVOLUTIONAL NETWORKS\n",
    "- USING VECTOR QUANTIZATION Yunchao Gong, Liu Liu ∗ , Ming Yang, Lubomir Bourdev"
   ]
  },
  {
   "cell_type": "code",
   "execution_count": 2,
   "metadata": {
    "collapsed": false
   },
   "outputs": [
    {
     "name": "stdout",
     "output_type": "stream",
     "text": [
      "('x_train shape:', (60000, 28, 28, 1))\n",
      "(60000, 'train samples')\n",
      "(10000, 'test samples')\n"
     ]
    }
   ],
   "source": [
    "from keras.datasets import mnist\n",
    "from keras.models import Sequential\n",
    "from keras.layers import Dense, Dropout, Flatten\n",
    "from keras.layers import Conv2D, MaxPooling2D , Activation\n",
    "from keras import backend as K\n",
    "\n",
    "batch_size = 128\n",
    "num_classes = 10\n",
    "epochs = 15\n",
    "\n",
    "# input image dimensions\n",
    "img_rows, img_cols = 28, 28\n",
    "# the data, shuffled and split between train and test sets\n",
    "(x_train, y_train), (x_test, y_test) = mnist.load_data()\n",
    "\n",
    "if K.image_dim_ordering() == 'th':\n",
    "    x_train = x_train.reshape(x_train.shape[0], 1, img_rows, img_cols)\n",
    "    x_test = x_test.reshape(x_test.shape[0], 1, img_rows, img_cols)\n",
    "    input_shape = (1, img_rows, img_cols)\n",
    "else:\n",
    "    x_train = x_train.reshape(x_train.shape[0], img_rows, img_cols, 1)\n",
    "    x_test = x_test.reshape(x_test.shape[0], img_rows, img_cols, 1)\n",
    "    input_shape = (img_rows, img_cols, 1)\n",
    "\n",
    "x_train = x_train.astype('float32')\n",
    "x_test = x_test.astype('float32')\n",
    "x_train /= 255\n",
    "x_test /= 255\n",
    "print('x_train shape:', x_train.shape)\n",
    "print(x_train.shape[0], 'train samples')\n",
    "print(x_test.shape[0], 'test samples')\n",
    "\n",
    "# convert class vectors to binary class matrices\n",
    "y_train = keras.utils.np_utils.to_categorical(y_train, num_classes)\n",
    "y_test = keras.utils.np_utils.to_categorical(y_test, num_classes)\n",
    "\n",
    "model = Sequential()\n",
    "model.add(Conv2D(32,3,3, activation='relu', input_shape=input_shape))\n",
    "model.add(Conv2D(64,3,3,activation='relu'))\n",
    "model.add(MaxPooling2D(pool_size=(2, 2)))\n",
    "model.add(Dropout(0.25))\n",
    "model.add(Flatten())\n",
    "model.add(Dense(128, activation='relu'))\n",
    "model.add(Dropout(0.5))\n",
    "model.add(Dense(num_classes))\n",
    "model.add(Activation('softmax'))\n",
    "\n",
    "model.compile(loss='categorical_crossentropy',\n",
    "              optimizer=keras.optimizers.Adadelta(),\n",
    "              metrics=['accuracy'])"
   ]
  },
  {
   "cell_type": "markdown",
   "metadata": {},
   "source": [
    "#### Train cumberSome Model "
   ]
  },
  {
   "cell_type": "raw",
   "metadata": {
    "collapsed": true
   },
   "source": [
    "model.fit(x_train, y_train,\n",
    "          batch_size=batch_size,\n",
    "          nb_epoch=epochs,\n",
    "          verbose=0,\n",
    "          validation_data=(x_test, y_test))\n",
    "score = model.evaluate(x_test, y_test, verbose=0)\n",
    "print('Test loss:', score[0])\n",
    "print('Test accuracy:', score[1])\n",
    "\n",
    "\n",
    "print (\"Saving Model weights\")\n",
    "model.save_weights(\"stockweighs.h5\")\n",
    "print (\"Model Weights Saved\")"
   ]
  },
  {
   "cell_type": "code",
   "execution_count": 3,
   "metadata": {
    "collapsed": false
   },
   "outputs": [
    {
     "name": "stdout",
     "output_type": "stream",
     "text": [
      "____________________________________________________________________________________________________\n",
      "Layer (type)                     Output Shape          Param #     Connected to                     \n",
      "====================================================================================================\n",
      "convolution2d_1 (Convolution2D)  (None, 26, 26, 32)    320         convolution2d_input_1[0][0]      \n",
      "____________________________________________________________________________________________________\n",
      "convolution2d_2 (Convolution2D)  (None, 24, 24, 64)    18496       convolution2d_1[0][0]            \n",
      "____________________________________________________________________________________________________\n",
      "maxpooling2d_1 (MaxPooling2D)    (None, 12, 12, 64)    0           convolution2d_2[0][0]            \n",
      "____________________________________________________________________________________________________\n",
      "dropout_1 (Dropout)              (None, 12, 12, 64)    0           maxpooling2d_1[0][0]             \n",
      "____________________________________________________________________________________________________\n",
      "flatten_1 (Flatten)              (None, 9216)          0           dropout_1[0][0]                  \n",
      "____________________________________________________________________________________________________\n",
      "dense_1 (Dense)                  (None, 128)           1179776     flatten_1[0][0]                  \n",
      "____________________________________________________________________________________________________\n",
      "dropout_2 (Dropout)              (None, 128)           0           dense_1[0][0]                    \n",
      "____________________________________________________________________________________________________\n",
      "dense_2 (Dense)                  (None, 10)            1290        dropout_2[0][0]                  \n",
      "____________________________________________________________________________________________________\n",
      "activation_1 (Activation)        (None, 10)            0           dense_2[0][0]                    \n",
      "====================================================================================================\n",
      "Total params: 1,199,882\n",
      "Trainable params: 1,199,882\n",
      "Non-trainable params: 0\n",
      "____________________________________________________________________________________________________\n"
     ]
    }
   ],
   "source": [
    "model.summary()"
   ]
  },
  {
   "cell_type": "markdown",
   "metadata": {},
   "source": [
    "###  Load pre-trained wieghts and Evaluate Model"
   ]
  },
  {
   "cell_type": "code",
   "execution_count": 4,
   "metadata": {
    "collapsed": false
   },
   "outputs": [
    {
     "name": "stdout",
     "output_type": "stream",
     "text": [
      "('Test loss:', 0.028270393712621807)\n",
      "('Test accuracy:', 0.99139999999999995)\n"
     ]
    }
   ],
   "source": [
    "model.load_weights('stockweighs.h5')\n",
    "score = model.evaluate(x_test, y_test, verbose=0)\n",
    "print('Test loss:', score[0])\n",
    "print('Test accuracy:', score[1])"
   ]
  },
  {
   "cell_type": "markdown",
   "metadata": {},
   "source": [
    "### Parameter Size of Initial Model and Memory Footprint \n",
    "- How many parameters does your initial model contain? \n",
    "- What is the memory footprint? \n",
    "- What is the accuracy on the testing data set?"
   ]
  },
  {
   "cell_type": "code",
   "execution_count": 5,
   "metadata": {
    "collapsed": false
   },
   "outputs": [
    {
     "name": "stdout",
     "output_type": "stream",
     "text": [
      "('Memory footprint per Image Feed Forward ~= ', 4.5771865844726562, 'Mb')\n"
     ]
    }
   ],
   "source": [
    "convparams = 320 + 18496\n",
    "trainable_params = model.count_params()\n",
    "footprint = trainable_params * 4\n",
    "\n",
    "print (\"Memory footprint per Image Feed Forward ~= \" , footprint / 1024.0 /1024.0 ,\"Mb\") # 2x Backprop\n"
   ]
  },
  {
   "cell_type": "markdown",
   "metadata": {},
   "source": [
    "### Distillation of Knowledge in Final Dense Layers , Through Logit Regression "
   ]
  },
  {
   "cell_type": "markdown",
   "metadata": {},
   "source": [
    "### Todo:\n",
    "\n",
    "- See if Redundant Conv-Layers Connections from TL,TR,BL,BR should be pruned. \n",
    "- see indices from karpathy slides and learn pruning connections "
   ]
  },
  {
   "cell_type": "markdown",
   "metadata": {},
   "source": [
    "### Intermediate Outputs"
   ]
  },
  {
   "cell_type": "code",
   "execution_count": 6,
   "metadata": {
    "collapsed": false
   },
   "outputs": [],
   "source": [
    "from keras import backend as K\n",
    "\n",
    "def prepare_softtargets(model,X):\n",
    "    inp = model.input                                           # input placeholder\n",
    "    outputs = []\n",
    "    for layer in model.layers[:]:\n",
    "        if layer.name == 'flatten_1':\n",
    "            outputs.append(layer.output)\n",
    "        if layer.name == 'dense_2':\n",
    "            outputs.append(layer.output)\n",
    "            \n",
    "    functor = K.function([inp]+ [K.learning_phase()], outputs ) # evaluation function\n",
    "    layer_outs = functor([X, 1.])\n",
    "    return np.array(layer_outs[0]) , np.array(layer_outs[1])"
   ]
  },
  {
   "cell_type": "markdown",
   "metadata": {},
   "source": [
    "### Prepare Train Data for small model "
   ]
  },
  {
   "cell_type": "code",
   "execution_count": 7,
   "metadata": {
    "collapsed": false
   },
   "outputs": [
    {
     "name": "stdout",
     "output_type": "stream",
     "text": [
      "Batch # :  0\n",
      "Batch # :  1\n",
      "Batch # :  2\n",
      "Batch # :  3\n",
      "Batch # :  4\n",
      "Batch # :  5\n",
      "Batch # :  6\n",
      "Batch # :  7\n",
      "Batch # :  8\n",
      "Batch # :  9\n",
      "Batch # :  10\n",
      "Batch # :  11\n",
      "Batch # :  12\n",
      "Batch # :  13\n",
      "Batch # :  14\n",
      "Batch # :  15\n",
      "Batch # :  16\n",
      "Batch # :  17\n",
      "Batch # :  18\n",
      "Batch # :  19\n",
      "Batch # :  20\n",
      "Batch # :  21\n",
      "Batch # :  22\n",
      "Batch # :  23\n",
      "Batch # :  24\n",
      "Batch # :  25\n",
      "Batch # :  26\n",
      "Batch # :  27\n",
      "Batch # :  28\n",
      "Batch # :  29\n",
      "Batch # :  30\n",
      "Batch # :  31\n",
      "Batch # :  32\n",
      "Batch # :  33\n",
      "Batch # :  34\n",
      "Batch # :  35\n",
      "Batch # :  36\n",
      "Batch # :  37\n",
      "Batch # :  38\n",
      "Batch # :  39\n",
      "Batch # :  40\n",
      "Batch # :  41\n",
      "Batch # :  42\n",
      "Batch # :  43\n",
      "Batch # :  44\n",
      "Batch # :  45\n",
      "Batch # :  46\n",
      "Batch # :  47\n",
      "Batch # :  48\n",
      "Batch # :  49\n",
      "Batch # :  50\n",
      "Batch # :  51\n",
      "Batch # :  52\n",
      "Batch # :  53\n",
      "Batch # :  54\n",
      "Batch # :  55\n",
      "Batch # :  56\n",
      "Batch # :  57\n",
      "Batch # :  58\n",
      "Batch # :  59\n",
      "(60000, 9216)\n",
      "(60000, 10)\n",
      "clean up \n"
     ]
    }
   ],
   "source": [
    "lastconv_out = []\n",
    "logit_out = []\n",
    "for i in range(0,60):\n",
    "    print \"Batch # : \",i\n",
    "    l,l2 =  ( prepare_softtargets(model,x_train[i*1000:(i+1)*1000]))\n",
    "    lastconv_out.append(l)\n",
    "    logit_out.append(l2)\n",
    "    #lastconv_out , logit_out = prepare_softtargets(model,x_train[i*1000:(i+1)*1000])\n",
    "\n",
    "# lastconv_out.shape , logit_out.shape\n",
    "lastconv_out = np.array(lastconv_out)\n",
    "logit_out = np.array(logit_out)\n",
    "lastconv_out = lastconv_out.reshape((60000 , 9216))\n",
    "logit_out = logit_out.reshape((60000 , 10))\n",
    "print lastconv_out.shape\n",
    "print logit_out.shape\n",
    "\n",
    "print \"clean up \" \n",
    "x_train = 0 "
   ]
  },
  {
   "cell_type": "markdown",
   "metadata": {},
   "source": [
    "### Write transferset to file "
   ]
  },
  {
   "cell_type": "code",
   "execution_count": 8,
   "metadata": {
    "collapsed": true
   },
   "outputs": [],
   "source": [
    "h5f = h5py.File('lastconv_out.h5', 'w')\n",
    "h5f.create_dataset('dataset_1', data=lastconv_out)\n",
    "h5f.close()\n",
    "\n",
    "h5f2 = h5py.File('logit_out.h5', 'w')\n",
    "h5f2.create_dataset('dataset_1', data=logit_out)\n",
    "h5f2.close()"
   ]
  },
  {
   "cell_type": "markdown",
   "metadata": {},
   "source": [
    "### Preparing Soft-targets and inputs for Evalutation of Model on Totally Held out x_test "
   ]
  },
  {
   "cell_type": "code",
   "execution_count": 9,
   "metadata": {
    "collapsed": false
   },
   "outputs": [
    {
     "name": "stdout",
     "output_type": "stream",
     "text": [
      "Batch # :  0\n",
      "Batch # :  1\n",
      "Batch # :  2\n",
      "Batch # :  3\n",
      "Batch # :  4\n",
      "Batch # :  5\n",
      "Batch # :  6\n",
      "Batch # :  7\n",
      "Batch # :  8\n",
      "Batch # :  9\n",
      "(10000, 9216)\n",
      "(10000, 10)\n"
     ]
    }
   ],
   "source": [
    "# free up memory\n",
    "lastconv_out = 0\n",
    "logit_out = 0 \n",
    "\n",
    "test_lastconv_out = []\n",
    "test_logit_out = []\n",
    "\n",
    "for i in range(0,10):\n",
    "    print \"Batch # : \",i\n",
    "    l,l2 =  prepare_softtargets(model,x_test[i*1000:(i+1)*1000])\n",
    "    test_lastconv_out.append(l)\n",
    "    test_logit_out.append(l2)\n",
    "    \n",
    "\n",
    "# lastconv_out.shape , logit_out.shape\n",
    "test_lastconv_out = np.array(test_lastconv_out)\n",
    "test_logit_out = np.array(test_logit_out)\n",
    "\n",
    "test_lastconv_out = test_lastconv_out.reshape((10000 , 9216))\n",
    "test_logit_out = test_logit_out.reshape((10000 , 10))\n",
    "\n",
    "print test_lastconv_out.shape\n",
    "print test_logit_out.shape\n"
   ]
  },
  {
   "cell_type": "code",
   "execution_count": 10,
   "metadata": {
    "collapsed": true
   },
   "outputs": [],
   "source": [
    "h5f = h5py.File('test_lastconv_out.h5', 'w')\n",
    "h5f.create_dataset('dataset_1', data=test_lastconv_out)\n",
    "h5f.close()\n",
    "\n",
    "h5f2 = h5py.File('test_logit_out.h5', 'w')\n",
    "h5f2.create_dataset('dataset_1', data=test_logit_out)\n",
    "h5f2.close()"
   ]
  },
  {
   "cell_type": "markdown",
   "metadata": {},
   "source": [
    "### Experiment on different Compression Rates and Architectures (number of Hidden layer Neurons) for plotting results "
   ]
  },
  {
   "cell_type": "raw",
   "metadata": {
    "collapsed": false
   },
   "source": [
    "## Logit Regression Method \n",
    "\n",
    "results = []\n",
    "\n",
    "for HiddenNeuron in [4,5,6,7,8,9,10,11,14,16,20]:\n",
    "    \n",
    "    # Load input,target to studentModel \n",
    "    h5f = h5py.File('lastconv_out.h5' , 'r')\n",
    "    lastconv_out = h5f['dataset_1'][:]\n",
    "    h5f.close()\n",
    "    \n",
    "    h5f2 = h5py.File('logit_out.h5' , 'r')\n",
    "    logit_out = h5f2['dataset_1'][:]\n",
    "    h5f2.close()\n",
    "\n",
    "    student_model = Sequential()\n",
    "    student_model.add(Dense(HiddenNeuron,input_dim=9216,activation='relu'))\n",
    "    student_model.add(Dropout(0.5))\n",
    "    student_model.add(Dense(num_classes))\n",
    "\n",
    "    student_model.compile(loss='mse',\n",
    "                  optimizer=keras.optimizers.Adadelta(),\n",
    "                  metrics=['accuracy'])\n",
    "\n",
    "    student_model.fit(lastconv_out, logit_out,nb_epoch=10,verbose=0)\n",
    "#     student_model.save_weights(\"student_weights_\"+str(HiddenNeuron)+\"hidden_0.5_dropout.h5\")\n",
    "    \n",
    "    # Compression Rate from Number of Parameters Reduced\n",
    "    print \"HiddenNeurons : \" , HiddenNeuron\n",
    "    print \"Initial Model Parameters : \" , model.count_params()\n",
    "    print \"Compressed Model parameters: \", student_model.count_params() + convparams\n",
    "    \n",
    "    compressionRate = model.count_params() / np.float(student_model.count_params() + convparams)\n",
    "    print \"Compression Rate : \" , compressionRate\n",
    "    \n",
    "    lastconv_out = 0\n",
    "    logit_out = 0                \n",
    "    \n",
    "    h5f = h5py.File('test_lastconv_out.h5' , 'r')\n",
    "    test_lastconv_out = h5f['dataset_1'][:]\n",
    "    h5f.close()\n",
    "    h5f2 = h5py.File('test_logit_out.h5' , 'r')\n",
    "    test_logit_out = h5f2['dataset_1'][:]\n",
    "    h5f2.close()\n",
    "    \n",
    "    pred = student_model.predict(test_lastconv_out)\n",
    "    probs = softmax_c(pred)\n",
    "    pred_classes = np.argmax(probs,axis=1)\n",
    "\n",
    "    accuracy_student = metrics.accuracy_score(y_pred=pred_classes,y_true=np.argmax(y_test,axis=1))\n",
    "    print \"Accuracy : \" , accuracy_student\n",
    "                            \n",
    "    out = {\n",
    "        \"HiddenNeuron\" :    HiddenNeuron,\n",
    "        \"compressionRate\" : compressionRate,\n",
    "        \"nparams_student\" : student_model.count_params() + convparams = 320 + 18496,\n",
    "        \"accuracy_student\": accuracy_student\n",
    "    }\n",
    "    \n",
    "    student_model = 0 \n",
    "    lastconv_out = 0\n",
    "    logit_out = 0 \n",
    "    test_lastconv_out = 0\n",
    "    test_logit_out = 0 \n",
    "    \n",
    "    results.append(out)\n",
    "    # Free-up train Set "
   ]
  },
  {
   "cell_type": "markdown",
   "metadata": {},
   "source": [
    "### Remove Below"
   ]
  },
  {
   "cell_type": "code",
   "execution_count": 11,
   "metadata": {
    "collapsed": false
   },
   "outputs": [
    {
     "name": "stdout",
     "output_type": "stream",
     "text": [
      "HiddenNeurons :  2\n",
      "Initial Model Parameters :  1199882\n",
      "Compressed Model parameters:  37280\n",
      "Compression Rate :  32.1856759657\n",
      "Accuracy :  0.4211\n",
      "HiddenNeurons :  3\n",
      "Initial Model Parameters :  1199882\n",
      "Compressed Model parameters:  46507\n",
      "Compression Rate :  25.800030103\n",
      "Accuracy :  0.7185\n",
      "HiddenNeurons :  4\n",
      "Initial Model Parameters :  1199882\n",
      "Compressed Model parameters:  55734\n",
      "Compression Rate :  21.5287257329\n",
      "Accuracy :  0.9199\n",
      "HiddenNeurons :  5\n",
      "Initial Model Parameters :  1199882\n",
      "Compressed Model parameters:  64961\n",
      "Compression Rate :  18.4708055603\n",
      "Accuracy :  0.9423\n",
      "HiddenNeurons :  6\n",
      "Initial Model Parameters :  1199882\n",
      "Compressed Model parameters:  74188\n",
      "Compression Rate :  16.1735321076\n",
      "Accuracy :  0.9626\n",
      "HiddenNeurons :  7\n",
      "Initial Model Parameters :  1199882\n",
      "Compressed Model parameters:  83415\n",
      "Compression Rate :  14.3844872025\n",
      "Accuracy :  0.9699\n"
     ]
    }
   ],
   "source": [
    "## Logit Regression Method \n",
    "\n",
    "results = []\n",
    "\n",
    "for HiddenNeuron in [2,3,4,5,6,7]:\n",
    "    \n",
    "    # Load input,target to studentModel \n",
    "    h5f = h5py.File('lastconv_out.h5' , 'r')\n",
    "    lastconv_out = h5f['dataset_1'][:]\n",
    "    h5f.close()\n",
    "    \n",
    "    h5f2 = h5py.File('logit_out.h5' , 'r')\n",
    "    logit_out = h5f2['dataset_1'][:]\n",
    "    h5f2.close()\n",
    "\n",
    "    student_model = Sequential()\n",
    "    student_model.add(Dense(HiddenNeuron,input_dim=9216,activation='relu'))\n",
    "    student_model.add(Dropout(0.2))\n",
    "    student_model.add(Dense(num_classes))\n",
    "\n",
    "    student_model.compile(loss='mse',\n",
    "                  optimizer=keras.optimizers.Adadelta(),\n",
    "                  metrics=['accuracy'])\n",
    "\n",
    "    student_model.fit(lastconv_out, logit_out,nb_epoch=40,verbose=0)\n",
    "#     student_model.save_weights(\"student_weights_\"+str(HiddenNeuron)+\"hidden_0.5_dropout.h5\")\n",
    "    \n",
    "    # Compression Rate from Number of Parameters Reduced\n",
    "    print \"HiddenNeurons : \" , HiddenNeuron\n",
    "    print \"Initial Model Parameters : \" , model.count_params()\n",
    "    print \"Compressed Model parameters: \", student_model.count_params() + convparams\n",
    "    \n",
    "    compressionRate = model.count_params() / np.float(student_model.count_params()  + convparams)\n",
    "    print \"Compression Rate : \" , compressionRate\n",
    "    \n",
    "    lastconv_out = 0\n",
    "    logit_out = 0                \n",
    "    \n",
    "    h5f = h5py.File('test_lastconv_out.h5' , 'r')\n",
    "    test_lastconv_out = h5f['dataset_1'][:]\n",
    "    h5f.close()\n",
    "    h5f2 = h5py.File('test_logit_out.h5' , 'r')\n",
    "    test_logit_out = h5f2['dataset_1'][:]\n",
    "    h5f2.close()\n",
    "    \n",
    "    pred = student_model.predict(test_lastconv_out)\n",
    "    probs = softmax_c(pred)\n",
    "    pred_classes = np.argmax(probs,axis=1)\n",
    "\n",
    "    accuracy_student = metrics.accuracy_score(y_pred=pred_classes,y_true=np.argmax(y_test,axis=1))\n",
    "    print \"Accuracy : \" , accuracy_student\n",
    "                            \n",
    "    out = {\n",
    "        \"HiddenNeuron\" :    HiddenNeuron,\n",
    "        \"compressionRate\" : compressionRate,\n",
    "        \"nparams_student\" : student_model.count_params()  + convparams,\n",
    "        \"accuracy_student\": accuracy_student\n",
    "    }\n",
    "    \n",
    "    student_model = 0 \n",
    "    lastconv_out = 0\n",
    "    logit_out = 0 \n",
    "    test_lastconv_out = 0\n",
    "    test_logit_out = 0 \n",
    "    \n",
    "    results.append(out)\n",
    "    # Free-up train Set"
   ]
  },
  {
   "cell_type": "code",
   "execution_count": 13,
   "metadata": {
    "collapsed": false
   },
   "outputs": [
    {
     "data": {
      "text/plain": [
       "[{'HiddenNeuron': 2,\n",
       "  'accuracy_student': 0.42109999999999997,\n",
       "  'compressionRate': 32.185675965665233,\n",
       "  'nparams_student': 37280},\n",
       " {'HiddenNeuron': 3,\n",
       "  'accuracy_student': 0.71850000000000003,\n",
       "  'compressionRate': 25.800030102995247,\n",
       "  'nparams_student': 46507},\n",
       " {'HiddenNeuron': 4,\n",
       "  'accuracy_student': 0.91990000000000005,\n",
       "  'compressionRate': 21.528725732945777,\n",
       "  'nparams_student': 55734},\n",
       " {'HiddenNeuron': 5,\n",
       "  'accuracy_student': 0.94230000000000003,\n",
       "  'compressionRate': 18.470805560259233,\n",
       "  'nparams_student': 64961},\n",
       " {'HiddenNeuron': 6,\n",
       "  'accuracy_student': 0.96260000000000001,\n",
       "  'compressionRate': 16.173532107618481,\n",
       "  'nparams_student': 74188},\n",
       " {'HiddenNeuron': 7,\n",
       "  'accuracy_student': 0.96989999999999998,\n",
       "  'compressionRate': 14.384487202541509,\n",
       "  'nparams_student': 83415}]"
      ]
     },
     "execution_count": 13,
     "metadata": {},
     "output_type": "execute_result"
    }
   ],
   "source": [
    "results "
   ]
  },
  {
   "cell_type": "code",
   "execution_count": 14,
   "metadata": {
    "collapsed": false
   },
   "outputs": [
    {
     "data": {
      "image/png": "[encoded data removed]",
      "text/plain": [
       "<matplotlib.figure.Figure at 0x7fc51102fd50>"
      ]
     },
     "metadata": {},
     "output_type": "display_data"
    },
    {
     "data": {
      "image/png": "[encoded data removed]",
      "text/plain": [
       "<matplotlib.figure.Figure at 0x7fc5041d6fd0>"
      ]
     },
     "metadata": {},
     "output_type": "display_data"
    }
   ],
   "source": [
    "def plot_findings(results,save=False):\n",
    "    fig = plt.figure()\n",
    "    fig.suptitle('parameter Size and Accuracy', fontsize=20)\n",
    "    plt.plot([r['nparams_student'] for r in results] , [r['accuracy_student'] for r in results])\n",
    "    plt.xlabel('Parameter Size', fontsize=18)\n",
    "    plt.ylabel('accuracy', fontsize=16)\n",
    "    if save: \n",
    "        fig.savefig('plots/parameterSize_Accuracy.png')\n",
    "    \n",
    "    plt.show()\n",
    "    \n",
    "    fig = plt.figure()\n",
    "    fig.suptitle('Compression Rate and Accuracy', fontsize=20)\n",
    "    plt.plot([r['compressionRate'] for r in results] , [r['accuracy_student'] for r in results])\n",
    "    plt.xlabel('compression Rate', fontsize=18)\n",
    "    plt.ylabel('accuracy', fontsize=18)\n",
    "    \n",
    "    if save: \n",
    "        fig.savefig('plots/CompressionRate_Accuracy.png')\n",
    "    plt.show()\n",
    "\n",
    "\n",
    "plot_findings(results,save=True)\n"
   ]
  },
  {
   "cell_type": "markdown",
   "metadata": {
    "collapsed": true
   },
   "source": [
    "### Conclusion \n",
    "- Achieved 16.2x compression keeping accuracy at 0.96"
   ]
  },
  {
   "cell_type": "code",
   "execution_count": null,
   "metadata": {
    "collapsed": true
   },
   "outputs": [],
   "source": []
  },
  {
   "cell_type": "code",
   "execution_count": null,
   "metadata": {
    "collapsed": true
   },
   "outputs": [],
   "source": []
  }
 ],
 "metadata": {
  "anaconda-cloud": {},
  "kernelspec": {
   "display_name": "Python [conda root]",
   "language": "python",
   "name": "conda-root-py"
  },
  "language_info": {
   "codemirror_mode": {
    "name": "ipython",
    "version": 2
   },
   "file_extension": ".py",
   "mimetype": "text/x-python",
   "name": "python",
   "nbconvert_exporter": "python",
   "pygments_lexer": "ipython2",
   "version": "2.7.13"
  }
 },
 "nbformat": 4,
 "nbformat_minor": 2
}
